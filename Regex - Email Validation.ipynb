{
 "cells": [
  {
   "cell_type": "code",
   "execution_count": 7,
   "id": "0b6d5161",
   "metadata": {},
   "outputs": [],
   "source": [
    "import re"
   ]
  },
  {
   "cell_type": "code",
   "execution_count": 24,
   "id": "1d23fce7",
   "metadata": {},
   "outputs": [],
   "source": [
    "email_condition = '^[a-z]+[\\._]?[a-z 0-9]+[@]\\w+[.]\\w{2,3}$'"
   ]
  },
  {
   "cell_type": "code",
   "execution_count": null,
   "id": "1a0e2f04",
   "metadata": {},
   "outputs": [],
   "source": [
    "user = input('Enter your Email :')\n",
    "if re.search(email_condition,user):\n",
    "    print(\"Valid Email\")\n",
    "else:\n",
    "    print(\"Wrong Email\")"
   ]
  }
 ],
 "metadata": {
  "kernelspec": {
   "display_name": "Python 3 (ipykernel)",
   "language": "python",
   "name": "python3"
  },
  "language_info": {
   "codemirror_mode": {
    "name": "ipython",
    "version": 3
   },
   "file_extension": ".py",
   "mimetype": "text/x-python",
   "name": "python",
   "nbconvert_exporter": "python",
   "pygments_lexer": "ipython3",
   "version": "3.9.12"
  }
 },
 "nbformat": 4,
 "nbformat_minor": 5
}
