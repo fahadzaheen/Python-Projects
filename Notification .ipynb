{
 "cells": [
  {
   "cell_type": "code",
   "execution_count": null,
   "id": "8b095cea",
   "metadata": {},
   "outputs": [],
   "source": [
    "from plyer import notification \n",
    "import time \n",
    "\n",
    "while True:\n",
    "    notification.notify(title = \"Rest remiander\",\n",
    "                        message = '\"you need to take rest, you have worked a lot\"',\n",
    "                        timeout =5,\n",
    "                        app_icon = \"D:/fahad.ico\",)\n",
    "    time.sleep(5)\n",
    "    \n",
    "    print(\"Notification Sent\")"
   ]
  },
  {
   "cell_type": "code",
   "execution_count": null,
   "id": "7ebe37d2",
   "metadata": {},
   "outputs": [],
   "source": [
    "BY : Fahad zaheen"
   ]
  }
 ],
 "metadata": {
  "kernelspec": {
   "display_name": "Python 3 (ipykernel)",
   "language": "python",
   "name": "python3"
  },
  "language_info": {
   "codemirror_mode": {
    "name": "ipython",
    "version": 3
   },
   "file_extension": ".py",
   "mimetype": "text/x-python",
   "name": "python",
   "nbconvert_exporter": "python",
   "pygments_lexer": "ipython3",
   "version": "3.9.12"
  }
 },
 "nbformat": 4,
 "nbformat_minor": 5
}
