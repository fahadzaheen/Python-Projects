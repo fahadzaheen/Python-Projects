{
 "cells": [
  {
   "cell_type": "code",
   "execution_count": 9,
   "id": "d8e2e2f6",
   "metadata": {},
   "outputs": [],
   "source": [
    "from tkinter import *\n",
    "import speedtest\n",
    "\n",
    "def speedcheck(): \n",
    "    sp = speedtest.Speedtest()\n",
    "    sp.get_servers()\n",
    "    down = str(round(sp.download()/(10**6),3))+\"mbps\"\n",
    "    up   = str(round(sp.upload()/(10**6),3))+'mbps'\n",
    "    downspeed.config(text= down)\n",
    "    upspeed.config(text= up)\n",
    "\n",
    "sp = Tk()\n",
    "\n",
    "sp.title(\" Internet speed check\")\n",
    "sp.geometry(\"300x450\")\n",
    "sp.config(bg= \"green\")\n",
    "\n",
    "lab = Label(sp, text = \"Internet speed check\", font =('Times New Roman', 20,'bold'),\n",
    "            bg=\"green\",fg = \"white\")\n",
    "lab.place(x=25 , y=50 , height=30 , width=250 )\n",
    "\n",
    "\n",
    "download = Label(sp, text = \"Download speed\", font =('Times New Roman', 20,'bold')\n",
    "           ,fg = \"red\")\n",
    "download.place(x=45 , y=140 , height=30 , width=210 )\n",
    "\n",
    "downspeed = Label(sp, text = \"00\", font =('Times New Roman', 20,'bold'),fg = \"blue\")\n",
    "downspeed.place(x=45 , y=180 , height=30 , width=210 )\n",
    "\n",
    "\n",
    "upload = Label(sp, text = \"Upload speed\", font =('Times New Roman', 20,'bold'),fg = \"red\")\n",
    "upload.place(x=45 , y=230 , height=30 , width=210 )\n",
    "\n",
    "upspeed = Label(sp, text = \"00\", font =('Times New Roman', 20,'bold'),fg = \"blue\")\n",
    "upspeed.place(x=45 , y=270 , height=30 , width=210 )\n",
    "\n",
    "button = Button(sp, text= \"Check Speed\", font= ('Times New Roman', 20,'bold'), bg= \"orange\" ,fg= \"blue\",\n",
    "                relief = RAISED, cursor= 'plus', command = speedcheck)\n",
    "button.place(x=62.5 ,y=360 ,height=50 ,width=175 )\n",
    "\n",
    "sp.mainloop()"
   ]
  },
  {
   "cell_type": "code",
   "execution_count": 11,
   "id": "f367f24c",
   "metadata": {
    "scrolled": true
   },
   "outputs": [],
   "source": [
    "BY : Fahad zaheen"
   ]
  }
 ],
 "metadata": {
  "kernelspec": {
   "display_name": "Python 3 (ipykernel)",
   "language": "python",
   "name": "python3"
  },
  "language_info": {
   "codemirror_mode": {
    "name": "ipython",
    "version": 3
   },
   "file_extension": ".py",
   "mimetype": "text/x-python",
   "name": "python",
   "nbconvert_exporter": "python",
   "pygments_lexer": "ipython3",
   "version": "3.9.12"
  }
 },
 "nbformat": 4,
 "nbformat_minor": 5
}
