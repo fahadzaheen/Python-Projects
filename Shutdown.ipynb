{
 "cells": [
  {
   "cell_type": "code",
   "execution_count": 3,
   "id": "d6adf84c",
   "metadata": {},
   "outputs": [],
   "source": [
    "from tkinter import *\n",
    "import os\n",
    "\n",
    "def restart():\n",
    "    os.system(\"shutdown /r /t 1\")\n",
    "def restart_time():\n",
    "    os.system(\"shutdown /r /t 10\")\n",
    "def logout():\n",
    "    os.system(\"shutdown -1\")\n",
    "def shutdown():\n",
    "    os.system(\"shutdown /s /t 1\")\n",
    "st = Tk()\n",
    "st.title(\"shutdown app\")\n",
    "st.geometry('250x450')\n",
    "st.config(bg=\"green\")\n",
    "r_button = Button(st, text= \"Restart\", font=('Times New Roman',20,\"bold\"),\n",
    "                  relief= RAISED, cursor= 'plus', command = restart)\n",
    "r_button.place(x=20 ,y=50 , height=50 , width=200 )\n",
    "r_button = Button(st, text= \"Restart Time\", font=('Times New Roman',20,\"bold\"),\n",
    "                  relief= RAISED, cursor= 'plus', command = restart_time)\n",
    "r_button.place(x=20 ,y=150 , height=50 , width=200 )\n",
    "lg_button = Button(st, text= \"Log Out\", font=('Times New Roman',20,\"bold\"),\n",
    "                   relief= RAISED, cursor= 'plus', command = logout)\n",
    "lg_button.place(x=20 ,y=250 , height=50 , width=200 )\n",
    "st_button = Button(st, text= \"Shut Down\", font=('Times New Roman',20,\"bold\"),\n",
    "                   relief= RAISED, cursor= 'plus', command = shutdown)\n",
    "st_button.place(x=20 ,y=350 , height=50 , width=200 )\n",
    "st.mainloop()"
   ]
  },
  {
   "cell_type": "code",
   "execution_count": null,
   "id": "89c12105",
   "metadata": {},
   "outputs": [],
   "source": [
    "By : Fahad zaheen"
   ]
  }
 ],
 "metadata": {
  "kernelspec": {
   "display_name": "Python 3 (ipykernel)",
   "language": "python",
   "name": "python3"
  },
  "language_info": {
   "codemirror_mode": {
    "name": "ipython",
    "version": 3
   },
   "file_extension": ".py",
   "mimetype": "text/x-python",
   "name": "python",
   "nbconvert_exporter": "python",
   "pygments_lexer": "ipython3",
   "version": "3.9.12"
  }
 },
 "nbformat": 4,
 "nbformat_minor": 5
}
