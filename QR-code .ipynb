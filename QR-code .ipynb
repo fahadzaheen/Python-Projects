{
 "cells": [
  {
   "cell_type": "code",
   "execution_count": 14,
   "id": "ce7f6ee8",
   "metadata": {},
   "outputs": [],
   "source": [
    "import qrcode"
   ]
  },
  {
   "cell_type": "code",
   "execution_count": 7,
   "id": "9e1db086",
   "metadata": {},
   "outputs": [],
   "source": [
    "from PIL import Image"
   ]
  },
  {
   "cell_type": "code",
   "execution_count": 41,
   "id": "25163de3",
   "metadata": {},
   "outputs": [],
   "source": [
    "qr = qrcode.QRCode(version=1,\n",
    "               error_correction= qrcode.constants.ERROR_CORRECT_H,\n",
    "               box_size=6, border=2 )\n",
    "qr.add_data(\"fahad \")\n",
    "qr.make(fit = True)\n",
    "\n",
    "img = qr.make_image(fill_color = \"white\", back_color = \"green\")\n"
   ]
  },
  {
   "cell_type": "code",
   "execution_count": 42,
   "id": "c86aad03",
   "metadata": {},
   "outputs": [
    {
     "data": {
      "image/png": "[encoded data removed]",
      "text/plain": [
       "<qrcode.image.pil.PilImage at 0x3de53258e0>"
      ]
     },
     "execution_count": 42,
     "metadata": {},
     "output_type": "execute_result"
    }
   ],
   "source": [
    "img"
   ]
  }
 ],
 "metadata": {
  "kernelspec": {
   "display_name": "Python 3 (ipykernel)",
   "language": "python",
   "name": "python3"
  },
  "language_info": {
   "codemirror_mode": {
    "name": "ipython",
    "version": 3
   },
   "file_extension": ".py",
   "mimetype": "text/x-python",
   "name": "python",
   "nbconvert_exporter": "python",
   "pygments_lexer": "ipython3",
   "version": "3.9.12"
  }
 },
 "nbformat": 4,
 "nbformat_minor": 5
}
