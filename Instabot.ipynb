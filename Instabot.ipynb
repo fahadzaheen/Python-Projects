{
 "cells": [
  {
   "cell_type": "code",
   "execution_count": 3,
   "id": "aa12273d",
   "metadata": {},
   "outputs": [],
   "source": [
    "from instabot import Bot"
   ]
  },
  {
   "cell_type": "code",
   "execution_count": 4,
   "id": "7a1ea330",
   "metadata": {},
   "outputs": [
    {
     "name": "stderr",
     "output_type": "stream",
     "text": [
      "2022-09-22 15:06:52,297 - INFO - Instabot version: 0.117.0 Started\n"
     ]
    }
   ],
   "source": [
    "bot = Bot()"
   ]
  },
  {
   "cell_type": "code",
   "execution_count": null,
   "id": "5e9f21c7",
   "metadata": {},
   "outputs": [],
   "source": [
    "bot.login\n",
    "bot.follow \n",
    "bot.unfollow"
   ]
  }
 ],
 "metadata": {
  "kernelspec": {
   "display_name": "Python 3 (ipykernel)",
   "language": "python",
   "name": "python3"
  },
  "language_info": {
   "codemirror_mode": {
    "name": "ipython",
    "version": 3
   },
   "file_extension": ".py",
   "mimetype": "text/x-python",
   "name": "python",
   "nbconvert_exporter": "python",
   "pygments_lexer": "ipython3",
   "version": "3.9.12"
  }
 },
 "nbformat": 4,
 "nbformat_minor": 5
}
