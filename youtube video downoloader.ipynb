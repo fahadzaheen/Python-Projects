{
 "cells": [
  {
   "cell_type": "code",
   "execution_count": 1,
   "id": "e4b63e12",
   "metadata": {},
   "outputs": [],
   "source": [
    "from pytube import YouTube \n",
    "\n",
    "link = \"https://www.youtube.com/shorts/W5Ew1Jn034g\"\n",
    "you = YouTube(link)\n",
    "\n",
    "\n",
    "\n",
    "videos = you.streams.all()\n",
    "vid = list(enumerate(videos))\n",
    "for i in vid:\n",
    "    print(i)\n",
    "    \n",
    "strm = int(input(\"enter :\"))\n",
    "videos[strm].download()\n",
    "\n",
    "print(\"succesfully downloaded\")\n",
    "\n"
   ]
  },
  {
   "cell_type": "code",
   "execution_count": null,
   "id": "7783bdc6",
   "metadata": {},
   "outputs": [],
   "source": [
    "BY : Fahad zaheen"
   ]
  }
 ],
 "metadata": {
  "kernelspec": {
   "display_name": "Python 3 (ipykernel)",
   "language": "python",
   "name": "python3"
  },
  "language_info": {
   "codemirror_mode": {
    "name": "ipython",
    "version": 3
   },
   "file_extension": ".py",
   "mimetype": "text/x-python",
   "name": "python",
   "nbconvert_exporter": "python",
   "pygments_lexer": "ipython3",
   "version": "3.9.12"
  }
 },
 "nbformat": 4,
 "nbformat_minor": 5
}
