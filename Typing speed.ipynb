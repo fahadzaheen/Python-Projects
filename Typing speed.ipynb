{
 "cells": [
  {
   "cell_type": "code",
   "execution_count": null,
   "id": "4c08dd3f",
   "metadata": {},
   "outputs": [],
   "source": [
    "from time import *\n",
    "import random as r\n",
    "\n",
    "def mistake(paratest , usertest):\n",
    "    error = 0\n",
    "    for i in range(len(paratest)):\n",
    "        try:\n",
    "            if paratest[i] != usertest[i]:\n",
    "                error = error + 1\n",
    "        except :\n",
    "            error = error + 1\n",
    "    return error\n",
    "\n",
    "def speed_time(time_s, time_e, userinput):\n",
    "    time_delay = time_e - time_s\n",
    "    time_R = round(time_delay,2)\n",
    "    speed = len(userinput)/time_R\n",
    "    return round(speed)\n",
    "\n",
    "test = [\"Typing is the most important skill\", \"our work is lil bit difficult\",\n",
    "         \"ooo so that was you its impossible to believe\"]\n",
    "test1 = r.choice(test)\n",
    "print(\"         ***** Typing speed ***** \")\n",
    "print()\n",
    "print(test1)\n",
    "print()\n",
    "print()\n",
    "time1 = time()\n",
    "testinput = input(\"Enter : \")\n",
    "time2 = time()\n",
    "\n",
    "Accuracy = len(test1) - mistake(test1, testinput)\n",
    "\n",
    "print(\"Speed :\",speed_time(time1, time2, testinput), \"w/sec\" )\n",
    "print(\"Error :\",mistake(test1, testinput))\n",
    "print(\"Accuracy :\", Accuracy)"
   ]
  },
  {
   "cell_type": "code",
   "execution_count": null,
   "id": "fd62cf9a",
   "metadata": {},
   "outputs": [],
   "source": [
    "By : Fahad zaheen"
   ]
  }
 ],
 "metadata": {
  "kernelspec": {
   "display_name": "Python 3 (ipykernel)",
   "language": "python",
   "name": "python3"
  },
  "language_info": {
   "codemirror_mode": {
    "name": "ipython",
    "version": 3
   },
   "file_extension": ".py",
   "mimetype": "text/x-python",
   "name": "python",
   "nbconvert_exporter": "python",
   "pygments_lexer": "ipython3",
   "version": "3.9.12"
  }
 },
 "nbformat": 4,
 "nbformat_minor": 5
}
