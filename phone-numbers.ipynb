{
 "cells": [
  {
   "cell_type": "code",
   "execution_count": null,
   "id": "f8f44268",
   "metadata": {},
   "outputs": [],
   "source": [
    "import phonenumbers\n",
    "from phonenumbers import carrier, timezone, geocoder\n",
    "\n",
    "number = input(\"enter your phone-no. +__ : \")\n",
    "phone  = phonenumbers.parse(number)\n",
    "car    = carrier.name_for_number(phone, \"en\")\n",
    "time   = timezone.time_zones_for_number(phone)\n",
    "reg    = geocoder.description_for_number(phone, \"en\")\n",
    "\n",
    "print(phone)\n",
    "print(car)\n",
    "print(time)\n",
    "print(reg)"
   ]
  }
 ],
 "metadata": {
  "kernelspec": {
   "display_name": "Python 3 (ipykernel)",
   "language": "python",
   "name": "python3"
  },
  "language_info": {
   "codemirror_mode": {
    "name": "ipython",
    "version": 3
   },
   "file_extension": ".py",
   "mimetype": "text/x-python",
   "name": "python",
   "nbconvert_exporter": "python",
   "pygments_lexer": "ipython3",
   "version": "3.9.12"
  }
 },
 "nbformat": 4,
 "nbformat_minor": 5
}
