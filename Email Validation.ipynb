{
 "cells": [
  {
   "cell_type": "code",
   "execution_count": null,
   "id": "5cb75329",
   "metadata": {},
   "outputs": [],
   "source": [
    "email = input(\"Enter your email :\") \n",
    "k,j,d=0,0,0\n",
    "if len(email) >= 6:\n",
    "    if email[0].isalpha():\n",
    "        if (\"@\" in email) and (email.count(\"@\")==1):\n",
    "            if (email[-4]==\".\") ^ (email[-3]==\".\"):\n",
    "                if email.count('.')==1:\n",
    "                    for i in email:\n",
    "                        if i==i.isspace():\n",
    "                            k=1\n",
    "                        elif i.isalpha():\n",
    "                            if i==i.upper():\n",
    "                                j==1\n",
    "                        elif i.isdigit():\n",
    "                            continue\n",
    "                        elif i== \"_\" or i==\".\" or i==\"@\":\n",
    "                            continue\n",
    "                        else:\n",
    "                            d=1\n",
    "                    if k==1 or j==1 or d==1:\n",
    "                        print(\"Wrong Email\")\n",
    "                    else:\n",
    "                        print(\"Valid Email\")\n",
    "                else:\n",
    "                    print(\"Wrong Email : There is a dot in you email i'd is more than one time\")\n",
    "            else:\n",
    "                print(\"Wrong Email : dot is misplaced\")\n",
    "        else:\n",
    "            print(\"Wrong Email : Eigther '@' is not present or more than one time \")\n",
    "    else:\n",
    "        print(\"Wrong Emali : First letter is not an Alphabet\")\n",
    "else:\n",
    "    print(\"Wrong Email : Minimum six letters requires in gmail id\")"
   ]
  },
  {
   "cell_type": "code",
   "execution_count": null,
   "id": "b376e3b3",
   "metadata": {},
   "outputs": [],
   "source": [
    "By : FAHAD ZAHEEN "
   ]
  }
 ],
 "metadata": {
  "kernelspec": {
   "display_name": "Python 3 (ipykernel)",
   "language": "python",
   "name": "python3"
  },
  "language_info": {
   "codemirror_mode": {
    "name": "ipython",
    "version": 3
   },
   "file_extension": ".py",
   "mimetype": "text/x-python",
   "name": "python",
   "nbconvert_exporter": "python",
   "pygments_lexer": "ipython3",
   "version": "3.9.12"
  }
 },
 "nbformat": 4,
 "nbformat_minor": 5
}
